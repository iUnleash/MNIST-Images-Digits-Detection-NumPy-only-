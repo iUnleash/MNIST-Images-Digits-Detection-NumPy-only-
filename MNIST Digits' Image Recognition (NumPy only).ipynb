{
 "cells": [
  {
   "cell_type": "code",
   "execution_count": 1,
   "metadata": {},
   "outputs": [
    {
     "name": "stderr",
     "output_type": "stream",
     "text": [
      "C:\\Users\\oshaat\\AppData\\Local\\Continuum\\anaconda3\\lib\\site-packages\\ipykernel_launcher.py:28: DeprecationWarning: The binary mode of fromstring is deprecated, as it behaves surprisingly on unicode inputs. Use frombuffer instead\n"
     ]
    }
   ],
   "source": [
    "import struct\n",
    "import gzip\n",
    "import numpy as np\n",
    "%matplotlib inline\n",
    "import matplotlib\n",
    "import matplotlib.pyplot as plt\n",
    "\n",
    "np.random.seed(42)\n",
    "\n",
    "def sigmoid(z):\n",
    "    sig = 1/(1+np.exp(-z))\n",
    "    return sig\n",
    "\n",
    "def ReLU(z):\n",
    "    ReLU = z * (z > 0)\n",
    "    return ReLU\n",
    "\n",
    "def compute_multiclass_loss(Y, Y_hat):\n",
    "    L_sum = np.sum(np.multiply(Y, np.log(Y_hat)))\n",
    "    m = y.shape[0]\n",
    "    L = -(1/m) * L_sum\n",
    "    return L\n",
    "    \n",
    "def read_idx(filename):\n",
    "    with open(filename, 'rb') as f:\n",
    "        zero, data_type, dims = struct.unpack('>HBB', f.read(4))\n",
    "        shape = tuple(struct.unpack('>I', f.read(4))[0] for d in range(dims))\n",
    "        return np.fromstring(f.read(), dtype=np.uint8).reshape(shape)\n",
    "    \n",
    "# Deep Learning Framework\n",
    "# One hidden layer neural network model\n",
    "# Classification\n",
    "# Last layer is softmax\n",
    "# Loss function cross entropy\n",
    "# Back propagation\n",
    "\n",
    "images_raw = read_idx('train-images.idx3-ubyte')\n",
    "labels_raw = read_idx('train-labels.idx1-ubyte')\n",
    "images_raw = images_raw/255\n",
    "X = images_raw.reshape(images_raw.shape[0],-1)\n",
    "y = labels_raw\n",
    "X.shape\n",
    "n_digits = 10\n",
    "y_multiclass = np.eye(n_digits)[y.astype('int32')] # converts the example to prediction class using \"dummy variables\""
   ]
  },
  {
   "cell_type": "code",
   "execution_count": 2,
   "metadata": {},
   "outputs": [
    {
     "name": "stdout",
     "output_type": "stream",
     "text": [
      "Epoch 0 cost:  9.09999229262521\n"
     ]
    },
    {
     "name": "stderr",
     "output_type": "stream",
     "text": [
      "C:\\Users\\oshaat\\AppData\\Local\\Continuum\\anaconda3\\lib\\site-packages\\ipykernel_launcher.py:19: RuntimeWarning: invalid value encountered in multiply\n"
     ]
    },
    {
     "name": "stdout",
     "output_type": "stream",
     "text": [
      "Epoch 5 cost:  43.43479805851157\n",
      "Epoch 10 cost:  22.299215725678753\n",
      "Epoch 15 cost:  11.074137377322055\n",
      "Epoch 20 cost:  12.15043686604245\n",
      "Epoch 25 cost:  9.44298544744364\n",
      "Epoch 30 cost:  6.453290886976837\n",
      "Epoch 35 cost:  7.258260010687922\n",
      "Epoch 40 cost:  6.29828203259229\n",
      "Epoch 45 cost:  7.762510915805046\n",
      "Epoch 50 cost:  6.718086967961329\n",
      "Epoch 55 cost:  2.3780323034664286\n",
      "Epoch 60 cost:  3.8366023733651238\n",
      "Epoch 65 cost:  6.615847851777611\n",
      "Epoch 70 cost:  4.5889312006385365\n",
      "Epoch 75 cost:  4.476796399884962\n",
      "Epoch 80 cost:  2.7882874907161592\n",
      "Epoch 85 cost:  4.727224168456882\n",
      "Epoch 90 cost:  3.3878524136608665\n",
      "Epoch 95 cost:  5.0707493811801285\n",
      "Final cost: 3.406917498860888\n"
     ]
    },
    {
     "data": {
      "text/plain": [
       "0.6649333333333334"
      ]
     },
     "execution_count": 2,
     "metadata": {},
     "output_type": "execute_result"
    }
   ],
   "source": [
    "# L2 Regularization - using sigmoid\n",
    "\n",
    "n_x = X.shape[1]\n",
    "n_h = 64 # Architecture\n",
    "learning_rate = 10\n",
    "W1 = np.random.randn(n_h, n_x)# Neurons weights\n",
    "b1 = np.zeros((n_h,1)) # Neurons intercepts\n",
    "W2 = np.random.randn(n_digits, n_h) # Probability/weights of prediction\n",
    "b2 = np.zeros((n_digits,1))\n",
    "epochs = 100\n",
    "\n",
    "lamda = 5\n",
    "for epoch in range(epochs):\n",
    "    Z1 = np.matmul(W1,X.T)+b1 # Feed forward prop\n",
    "    A1 = sigmoid(Z1) # Feedforward activation\n",
    "    Z2 = np.matmul(W2,A1)+b2 \n",
    "    A2 = np.exp(Z2) / np.sum(np.exp(Z2), axis=0) #Softmax\n",
    "    \n",
    "    cost = compute_multiclass_loss(y_multiclass,A2.T)\n",
    "    \n",
    "    # Cross entropy cost\n",
    "    dZ2 = A2.T - y_multiclass\n",
    "    dW2 = ((1./y.shape[0])*np.matmul(A1,dZ2))\n",
    "    dW2 = dW2 + (lamda*dW2) # L2 regularization term added\n",
    "    db2 = ((1./y.shape[0])*np.sum(dZ2,axis=0,keepdims=True))\n",
    "    db2 = db2 + (lamda*db2) # L2 regularization term added\n",
    "    \n",
    "    dA1 = np.matmul(dZ2,W2)\n",
    "    dZ1 = dA1.T*sigmoid(Z1)*(1-sigmoid(Z1))\n",
    "    dW1 = (1./y.shape[0]) * np.matmul(dZ1,X)\n",
    "    db1 = (1./y.shape[0]) * np.sum(dZ1, axis=0, keepdims=True)\n",
    "    \n",
    "    W2 = W2 - learning_rate*dW2.T\n",
    "    b2 = b2 - learning_rate*db2.T\n",
    "    W1 = W1 - learning_rate*dW1\n",
    "    b1 = b1 - learning_rate*db1\n",
    "    \n",
    "    if(epoch % 5 == 0):\n",
    "        print('Epoch', epoch, 'cost: ', cost)\n",
    "\n",
    "print(\"Final cost:\", cost)\n",
    "\n",
    "Z1 = np.matmul(W1,X.T)+b1\n",
    "A1 = sigmoid(Z1)\n",
    "Z2 = np.matmul(W2,A1)+b2\n",
    "A2 = np.exp(Z2) / np.sum(np.exp(Z2), axis=0) #Soft Max\n",
    "prediction = np.array([i.argmax() for i in A2.T]) #Predictions\n",
    "(60000-(prediction!=y).sum())/60000 \n",
    "# 92.89% prediction accuracy at learning rate = 10 and with L2 regularization"
   ]
  }
 ],
 "metadata": {
  "kernelspec": {
   "display_name": "Python 3",
   "language": "python",
   "name": "python3"
  },
  "language_info": {
   "codemirror_mode": {
    "name": "ipython",
    "version": 3
   },
   "file_extension": ".py",
   "mimetype": "text/x-python",
   "name": "python",
   "nbconvert_exporter": "python",
   "pygments_lexer": "ipython3",
   "version": "3.7.3"
  }
 },
 "nbformat": 4,
 "nbformat_minor": 2
}
